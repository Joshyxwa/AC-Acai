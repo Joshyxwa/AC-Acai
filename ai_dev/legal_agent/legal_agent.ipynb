{
 "cells": [
  {
   "cell_type": "markdown",
   "metadata": {},
   "source": [
    "## Load in all the things"
   ]
  },
  {
   "cell_type": "code",
   "execution_count": 3,
   "metadata": {},
   "outputs": [
    {
     "name": "stderr",
     "output_type": "stream",
     "text": [
      "/tmp/ipykernel_142340/1819277519.py:14: DeprecationWarning: Call to deprecated class Gemini. (Should use `llama-index-llms-google-genai` instead, using Google's latest unified SDK. See: https://docs.llamaindex.ai/en/stable/examples/llm/google_genai/)\n",
      "  gemini = Gemini(models=\"models/gemini-pro\", api_key=gemKey)\n"
     ]
    }
   ],
   "source": [
    "import os\n",
    "from supabase import create_client, Client\n",
    "from dotenv import load_dotenv \n",
    "from llama_index.llms.gemini import Gemini\n",
    "load_dotenv(\"../../secrets/.env.dev\")\n",
    "\n",
    "url = os.environ.get(\"SUPABASE_URL\")\n",
    "key = os.environ.get(\"SUPABASE_KEY\")\n",
    "password = os.environ.get(\"SUPABASE_PASSWORD\")\n",
    "ref = os.environ.get(\"SUPABASE_REF\")\n",
    "gemKey = os.environ.get(\"GEMINI_API_KEY\")\n",
    "\n",
    "supabase: Client = create_client(url, key)\n",
    "gemini = Gemini(models=\"models/gemini-pro\", api_key=gemKey)"
   ]
  },
  {
   "cell_type": "code",
   "execution_count": 4,
   "metadata": {},
   "outputs": [
    {
     "name": "stdout",
     "output_type": "stream",
     "text": [
      "385\n"
     ]
    }
   ],
   "source": [
    "#Fetching functions\n",
    "from llama_index.core import Document\n",
    "\n",
    "def fetch_articleDocs():\n",
    "    response = supabase.table(\"Article_Entry\").select(\"*\").execute()\n",
    "    docs = [\n",
    "        Document(\n",
    "            text=article[\"contents\"],\n",
    "            metadata={\n",
    "                \"id\": article[\"ent_id\"],\n",
    "                \"art_num\": article[\"art_num\"],\n",
    "                \"belongs_to\": article[\"belongs_to\"]\n",
    "            }\n",
    "        )\n",
    "        for article in response.data\n",
    "    ]\n",
    "    return docs\n",
    "\n",
    "def fetch_document(doc_id):\n",
    "    response = supabase.table(\"Document\").select(\"*\").eq(\"doc_id\", doc_id).execute()\n",
    "    return response.data[0][\"content\"]\n",
    "\n",
    "articles = fetch_articleDocs()\n",
    "print(len(articles))"
   ]
  },
  {
   "cell_type": "code",
   "execution_count": 5,
   "metadata": {},
   "outputs": [],
   "source": [
    "# Create embedings\n",
    "from llama_index.core import VectorStoreIndex\n",
    "from llama_index.embeddings.google_genai import GoogleGenAIEmbedding\n",
    "\n",
    "emb_model = GoogleGenAIEmbedding(\n",
    "    model=\"models/embedding-004\", \n",
    "    api_key=os.environ[\"GEMINI_API_KEY\"]\n",
    ")\n",
    "\n",
    "docs = fetch_articleDocs()\n",
    "index = VectorStoreIndex.from_documents(docs, embed_model=emb_model)"
   ]
  },
  {
   "cell_type": "code",
   "execution_count": null,
   "metadata": {},
   "outputs": [],
   "source": [
    "# Set up Hyde querying\n",
    "import json\n",
    "from llama_index.core.indices.query.query_transform import HyDEQueryTransform\n",
    "from llama_index.core.query_engine import TransformQueryEngine\n",
    "\n",
    "query_engine = index.as_query_engine(\n",
    "    llm=gemini,\n",
    "    similarity_top_k=3,\n",
    "    )\n",
    "hyde = HyDEQueryTransform(include_original=True, llm=gemini)\n",
    "hyde_query_engine = TransformQueryEngine(query_engine, hyde)\n",
    "\n",
    "# Function for finding laws\n",
    "def find_articles(document):\n",
    "    query = (\n",
    "        f\"Are any of the legal articles relevant to the feature desribed in the following document. {document}\"\n",
    "        \"If so, which articles.\"\n",
    "    )\n",
    "\n",
    "    response = hyde_query_engine.retrieve(query)\n",
    "    articles = [{\"article_id\": node.node.metadata.get(\"id\"),\n",
    "            \"art_num\": node.node.metadata.get(\"art_num\"),\n",
    "            \"belongs_to\": node.node.metadata.get(\"belongs_to\"),\n",
    "            \"score\": node.score } for node in response]\n",
    "    \n",
    "    return json.dumps(articles)"
   ]
  },
  {
   "cell_type": "code",
   "execution_count": 14,
   "metadata": {},
   "outputs": [
    {
     "name": "stdout",
     "output_type": "stream",
     "text": [
      "[{\"article_id\": 318, \"art_num\": \"Article 27\", \"belongs_to\": \"EU Digital Service Act\", \"score\": 0.6854756893658467}, {\"article_id\": 325, \"art_num\": \"Article 34\", \"belongs_to\": \"EU Digital Service Act\", \"score\": 0.6852535334107005}]\n",
      "AI-Generated Recommendations Suggests posts based on engagement history and location.\n",
      "[{\"article_id\": 318, \"art_num\": \"Article 27\", \"belongs_to\": \"EU Digital Service Act\", \"score\": 0.7006508623712223}, {\"article_id\": 194, \"art_num\": \"Recital 70\", \"belongs_to\": \"EU Digital Service Act\", \"score\": 0.6853889034352313}]\n"
     ]
    }
   ],
   "source": [
    "## Testing\n",
    "import pandas as pd\n",
    "\n",
    "relevant_articles = find_articles(fetch_document(4))\n",
    "print(relevant_articles)\n",
    "\n",
    "def test_csv(num):\n",
    "    df = pd.read_csv(\"synth_data.csv\", on_bad_lines=\"skip\") \n",
    "\n",
    "    # Example: combine first two columns into a single string per row\n",
    "    df[\"document_text\"] = df[df.columns[0]].astype(str) + \" \" + df[df.columns[1]].astype(str)\n",
    "\n",
    "    # Pick one row to test\n",
    "    test_document = df.iloc[num][\"document_text\"]\n",
    "\n",
    "    # Run your RAG + HyDE function\n",
    "    print(test_document)\n",
    "    json_result = find_articles(test_document)\n",
    "    print(json_result)\n",
    "\n",
    "test_csv(0)"
   ]
  }
 ],
 "metadata": {
  "kernelspec": {
   "display_name": "tikenv",
   "language": "python",
   "name": "python3"
  },
  "language_info": {
   "codemirror_mode": {
    "name": "ipython",
    "version": 3
   },
   "file_extension": ".py",
   "mimetype": "text/x-python",
   "name": "python",
   "nbconvert_exporter": "python",
   "pygments_lexer": "ipython3",
   "version": "3.13.7"
  }
 },
 "nbformat": 4,
 "nbformat_minor": 2
}
