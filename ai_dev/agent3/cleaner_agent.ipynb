{
 "cells": [
  {
   "cell_type": "code",
   "execution_count": 5,
   "id": "578462b3",
   "metadata": {},
   "outputs": [],
   "source": [
    "import os\n",
    "import logging\n",
    "import sys\n",
    "import anthropic\n",
    "from dotenv import load_dotenv\n",
    "load_dotenv(dotenv_path=\"../../secrets/.env.dev\")\n",
    "anthropic_key = os.environ.get(\"ANTHROPIC_API_KEY\")"
   ]
  },
  {
   "cell_type": "code",
   "execution_count": null,
   "id": "dc113ecf",
   "metadata": {},
   "outputs": [],
   "source": [
    "with open(\"prd1.txt\", \"r\") as file:\n",
    "    prd_content = file.read()\n",
    "\n",
    "with open(\"tdd1.txt\", \"r\") as file:\n",
    "    tdd_content = file.read()"
   ]
  },
  {
   "cell_type": "code",
   "execution_count": 33,
   "id": "095b60f2",
   "metadata": {},
   "outputs": [],
   "source": [
    "split_prd_content = prd_content.strip().split(\"\\n\")\n",
    "split_tdd_content = tdd_content.strip().split(\"\\n\")"
   ]
  },
  {
   "cell_type": "code",
   "execution_count": 34,
   "id": "791527f7",
   "metadata": {},
   "outputs": [],
   "source": [
    "clean_split_prd_content = \"\"\n",
    "for i in range(0, len(split_prd_content)):\n",
    "    clean_split_prd_content += f\"<span{i}>{split_prd_content[i]}</span{i}>\\n\"\n",
    "\n",
    "clean_split_tdd_content = \"\"\n",
    "for i in range(0, len(split_tdd_content)):\n",
    "    clean_split_tdd_content += f\"<span{i}>{split_tdd_content[i]}</span{i}>\\n\""
   ]
  },
  {
   "cell_type": "code",
   "execution_count": 35,
   "id": "f1f803f7",
   "metadata": {},
   "outputs": [],
   "source": [
    "with open(\"prd1_span.txt\", \"w\") as file:\n",
    "    file.write(clean_split_prd_content)\n",
    "\n",
    "with open(\"tdd1_span.txt\", \"w\") as file:\n",
    "    file.write(clean_split_tdd_content)"
   ]
  },
  {
   "cell_type": "code",
   "execution_count": null,
   "id": "ab10f150",
   "metadata": {},
   "outputs": [],
   "source": []
  }
 ],
 "metadata": {
  "kernelspec": {
   "display_name": "env",
   "language": "python",
   "name": "python3"
  },
  "language_info": {
   "codemirror_mode": {
    "name": "ipython",
    "version": 3
   },
   "file_extension": ".py",
   "mimetype": "text/x-python",
   "name": "python",
   "nbconvert_exporter": "python",
   "pygments_lexer": "ipython3",
   "version": "3.10.18"
  }
 },
 "nbformat": 4,
 "nbformat_minor": 5
}
