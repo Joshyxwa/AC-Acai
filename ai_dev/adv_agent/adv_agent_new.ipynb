{
 "cells": [
  {
   "cell_type": "code",
   "execution_count": 25,
   "id": "2004bd4a",
   "metadata": {},
   "outputs": [],
   "source": [
    "import os, re, json, asyncio\n",
    "from typing import List\n",
    "from dotenv import load_dotenv\n",
    "\n",
    "# LlamaIndex\n",
    "from llama_index.core import Settings\n",
    "from llama_index.core.agent.workflow import FunctionAgent\n",
    "from llama_index.llms.anthropic import Anthropic\n",
    "\n",
    "# Supabase\n",
    "from supabase import create_client, Client\n",
    "\n",
    "load_dotenv(\"../secrets/.env.dev\")\n",
    "\n",
    "url = os.environ.get(\"SUPABASE_URL\")\n",
    "key = os.environ.get(\"SUPABASE_KEY\")\n",
    "password = os.environ.get(\"SUPABASE_PASSWORD\")\n",
    "ref = os.environ.get(\"SUPABASE_REF\")\n",
    "supabase: Client = create_client(url, key)\n",
    "\n",
    "ANTHROPIC_API_KEY = os.environ[\"ANTHROPIC_API_KEY\"]  # make sure this exists\n",
    "\n",
    "# Set default LLM (Claude Sonnet)\n",
    "Settings.llm = Anthropic(model=\"claude-sonnet-4-20250514\", max_tokens=4000)\n"
   ]
  },
  {
   "cell_type": "code",
   "execution_count": 26,
   "id": "2437ce97",
   "metadata": {},
   "outputs": [],
   "source": [
    "def get_law_context(ent_ids: list[str], table: str = \"Article_Entry\") -> str:\n",
    "    \"\"\"\n",
    "    Fetch compact, traceable legal context from Supabase.\n",
    "    Format: one bullet per row with ent_id, law, article/type/definition, and trimmed contents.\n",
    "    \"\"\"\n",
    "    if not ent_ids:\n",
    "        return \"NO_CONTEXT\"\n",
    "\n",
    "    res = (\n",
    "        supabase.table(table)\n",
    "        .select(\"ent_id, art_num, type, belongs_to, contents, word\")\n",
    "        .in_(\"ent_id\", ent_ids)\n",
    "        .execute()\n",
    "    )\n",
    "\n",
    "    out = []\n",
    "    for r in res.data or []:\n",
    "        header = f\"- ent_id={r.get('ent_id')} | law={r.get('belongs_to') or 'N/A'}\"\n",
    "        if r.get(\"art_num\"):\n",
    "            header += f\" | article={r.get('art_num')}\"\n",
    "        if r.get(\"type\"):\n",
    "            header += f\" | type={r.get('type')}\"\n",
    "        if (r.get(\"type\") or \"\").lower() == \"definition\" and r.get(\"word\"):\n",
    "            header += f\" | defines={r.get('word')}\"\n",
    "        contents = (r.get(\"contents\") or \"\").strip().replace(\"\\n\", \" \")\n",
    "        if len(contents) > 800:  # safety trim\n",
    "            contents = contents[:800] + \"…\"\n",
    "        out.append(header + \"\\n  \" + contents)\n",
    "\n",
    "    return \"\\n\".join(out) if out else \"NO_CONTEXT\""
   ]
  },
  {
   "cell_type": "code",
   "execution_count": 27,
   "id": "ac7a2d08",
   "metadata": {},
   "outputs": [],
   "source": [
    "prd_text = supabase.table(\"Document\").select(\"content\").eq(\"doc_id\", 1).execute().data[0][\"content\"]\n",
    "ent_ids = [\"1\", \"2\", \"3\"]\n",
    "law_context = get_law_context(ent_ids)\n",
    "max_n = 3"
   ]
  },
  {
   "cell_type": "code",
   "execution_count": 28,
   "id": "ec579460",
   "metadata": {},
   "outputs": [],
   "source": [
    "#law_context"
   ]
  },
  {
   "cell_type": "code",
   "execution_count": 29,
   "id": "7c8036f1",
   "metadata": {},
   "outputs": [],
   "source": [
    "# cell 3: define Pydantic models (the schema LlamaIndex will enforce)\n",
    "from pydantic import BaseModel, Field, field_validator\n",
    "from typing import List, Literal\n",
    "\n",
    "PAREN_RE = re.compile(r\"\\(Attack vector:\\s*.+\\s*\\)$\")\n",
    "PLACEHOLDER_PAREN = \"(Attack vector: unspecified)\"\n",
    "\n",
    "class AttackScenario(BaseModel):\n",
    "    description: str  # must end with \"(Attack vector: … | Potential harm: …)\"\n",
    "    potential_violations: List[str]\n",
    "    jurisdictions: List[str] = Field(description=\"Law names, e.g., 'EU Digital Services Act'\")\n",
    "    law_citations: List[str] = Field(description=\"ent_id values relied on\")\n",
    "    rationale: str\n",
    "    prd_spans: List[int] = Field(\n",
    "        default_factory=list,\n",
    "        description=\"0-based PRD line indices (matching <span id='L0'>, <span id='L1'> …)\"\n",
    "    )\n",
    "\n",
    "    # 1) BEFORE: auto-append placeholder if the suffix is missing\n",
    "    @field_validator(\"description\", mode=\"before\")\n",
    "    @classmethod\n",
    "    def ensure_parenthetical(cls, v: str):\n",
    "        if not isinstance(v, str):\n",
    "            return v\n",
    "        s = v.strip()\n",
    "        if not PAREN_RE.search(s):\n",
    "            # add a space if needed before appending\n",
    "            sep = \"\" if (len(s) == 0 or s.endswith((\" \", \"(\", \"—\", \"-\", \"–\"))) else \" \"\n",
    "            s = f\"{s}{sep}{PLACEHOLDER_PAREN}\"\n",
    "        return s\n",
    "\n",
    "    # 2) AFTER: assert format is now correct (paranoia check)\n",
    "    @field_validator(\"description\")\n",
    "    @classmethod\n",
    "    def must_have_parenthetical(cls, v: str):\n",
    "        if not PAREN_RE.search(v.strip()):\n",
    "            # extremely unlikely now, but keeps the contract tight\n",
    "            raise ValueError(\n",
    "                \"description must end with '(Attack vector: … | Potential harm: …)'.\"\n",
    "            )\n",
    "        return v\n",
    "\n",
    "class AuditBundle(BaseModel):\n",
    "    scenarios: List[AttackScenario] = Field(min_items=max_n, max_items=max_n)"
   ]
  },
  {
   "cell_type": "code",
   "execution_count": 30,
   "id": "c1a779cd",
   "metadata": {},
   "outputs": [],
   "source": [
    "import html\n",
    "\n",
    "def prd_to_spans(prd_text: str) -> str:\n",
    "    lines = prd_text.splitlines()\n",
    "    return \"\\n\".join(\n",
    "        f\"<span id='L{i}'>{html.escape(line)}</span>\"\n",
    "        for i, line in enumerate(lines)\n",
    "    )\n",
    "\n",
    "span_wrapped_prd = prd_to_spans(prd_text)\n"
   ]
  },
  {
   "cell_type": "code",
   "execution_count": null,
   "id": "320fe3c9",
   "metadata": {},
   "outputs": [],
   "source": [
    "# cell 4: create a simple agent that returns AttackScenarioList\n",
    "from llama_index.core.agent.workflow import FunctionAgent\n",
    "\n",
    "agent = FunctionAgent(\n",
    "    tools=[],  # no tools\n",
    "    llm=Settings.llm,\n",
    "    system_prompt=(f\"\"\"\n",
    "        You are the Adversarial Strategist Agent.\n",
    "        Generate diverse, realistic attack scenarios that stress-test safety & legal compliance.\n",
    "        Return ONLY JSON. No prose outside JSON.\n",
    "                   \n",
    "        Task — Attack scenarios\n",
    "        - Produce exactly {max_n} distinct scenarios (no fewer), each schema-compliant.\n",
    "        - Each AttackScenario MUST include ONLY these keys:\n",
    "        - \"description\": string (clear, concrete attack story; ONE paragraph max); END with: (Attack vector: <short phrase>)\n",
    "        - \"potential_violations\": string[]\n",
    "        - \"jurisdictions\": string[] (law names, e.g., \"EU Digital Services Act\")\n",
    "        - \"law_citations\": string[] (ent_id values relied on)\n",
    "        - \"rationale\": string (why this matters for THIS PRD)\n",
    "        - \"prd_spans\": int[] (0-based PRD line indices, matching <span id='L0'>, <span id='L1'> …)\n",
    "        - Ground each scenario in the PRD lines you cite in \"prd_spans\".\n",
    "        - Make scenarios DISTINCT (no near-duplicates).\n",
    "\n",
    "        Self-check before returning:\n",
    "        - \"scenarios\" has exactly {max_n} items.\n",
    "        - Every scenario has non-empty \"prd_spans\" with valid line indices.\n",
    "        - Each scenario cites at least one ent_id in \"law_citations\".\n",
    "\n",
    "        Output shape (ONLY this JSON object, no comments):\n",
    "        {{\n",
    "        \"scenarios\": [... exactly {max_n} items ...]\n",
    "        }}\n",
    "        \"\"\"\n",
    "    ),\n",
    "    output_cls=AuditBundle,\n",
    ") #change to at most n times"
   ]
  },
  {
   "cell_type": "code",
   "execution_count": 32,
   "id": "97c0191e",
   "metadata": {},
   "outputs": [
    {
     "name": "stdout",
     "output_type": "stream",
     "text": [
      "[0] A malicious actor creates multiple fake accounts to bypass the mentor eligibility requirements by artificially inflating follower counts or purchasing verification status. Once qualified as an 'Established Creator,' they systematically target vulnerable teen creators through the mentorship program, using the private chat infrastructure to groom minors under the guise of professional guidance. The enhanced monitoring systems fail to detect sophisticated grooming techniques that gradually escalate over time. (Attack vector: Fake mentor credential exploitation)\n",
      "Description: A malicious actor creates multiple fake accounts to bypass the mentor eligibility requirements by artificially inflating follower counts or purchasing verification status. Once qualified as an 'Established Creator,' they systematically target vulnerable teen creators through the mentorship program, using the private chat infrastructure to groom minors under the guise of professional guidance. The enhanced monitoring systems fail to detect sophisticated grooming techniques that gradually escalate over time. (Attack vector: Fake mentor credential exploitation)\n",
      "Jurisdictions: ['S.B. 152 (2023) - Utah Social Media Regulation Act']\n",
      "Violations: ['Child exploitation through deceptive mentorship', 'Platform manipulation via fake accounts', 'Circumvention of safety controls']\n",
      "Citations: ['1']\n",
      "Rationale: This scenario directly exploits the mentor eligibility system defined in FR-1 while targeting the vulnerable teen population explicitly mentioned in FR-3. The attack leverages the private messaging infrastructure to create a direct channel for potential abuse.\n",
      "[1] Bad actors exploit the asymmetric power dynamic inherent in the mentorship model by posing as legitimate established creators and using psychological manipulation techniques to coerce aspiring creators into inappropriate relationships or content creation. They leverage the 'reputation building' motivation mentioned for established creators to justify increasingly invasive requests for personal information, photos, or private meetings under the pretense of 'industry networking.' The reporting tools become ineffective when victims are manipulated into believing the behavior is normal mentorship. (Attack vector: Psychological manipulation through power imbalance)\n",
      "Description: Bad actors exploit the asymmetric power dynamic inherent in the mentorship model by posing as legitimate established creators and using psychological manipulation techniques to coerce aspiring creators into inappropriate relationships or content creation. They leverage the 'reputation building' motivation mentioned for established creators to justify increasingly invasive requests for personal information, photos, or private meetings under the pretense of 'industry networking.' The reporting tools become ineffective when victims are manipulated into believing the behavior is normal mentorship. (Attack vector: Psychological manipulation through power imbalance)\n",
      "Jurisdictions: ['S.B. 152 (2023) - Utah Social Media Regulation Act']\n",
      "Violations: ['Exploitation of power dynamics', 'Coercion and manipulation of minors', 'Inappropriate data collection from vulnerable users']\n",
      "Citations: ['1']\n",
      "Rationale: This attack exploits the fundamental mentor-mentee relationship structure described in the user personas and feature requirements, specifically targeting the trust-building aspect that makes the safety controls less effective.\n",
      "[2] Attackers systematically create networks of coordinated inauthentic accounts that meet the technical eligibility criteria but operate as part of a larger scheme to harvest personal data from aspiring creators. They use the 'Discover Talent' feature to mass-contact new creators with seemingly legitimate mentorship offers, then use social engineering to extract sensitive information including real names, locations, school information, and family details. The private chat threads become data collection points that operate below the threshold of obvious abuse detection. (Attack vector: Coordinated data harvesting operation)\n",
      "Description: Attackers systematically create networks of coordinated inauthentic accounts that meet the technical eligibility criteria but operate as part of a larger scheme to harvest personal data from aspiring creators. They use the 'Discover Talent' feature to mass-contact new creators with seemingly legitimate mentorship offers, then use social engineering to extract sensitive information including real names, locations, school information, and family details. The private chat threads become data collection points that operate below the threshold of obvious abuse detection. (Attack vector: Coordinated data harvesting operation)\n",
      "Jurisdictions: ['S.B. 152 (2023) - Utah Social Media Regulation Act']\n",
      "Violations: ['Unauthorized data collection from minors', 'Coordinated inauthentic behavior', 'Privacy violations through deceptive practices']\n",
      "Citations: ['1']\n",
      "Rationale: This scenario exploits the 'Discover Talent' feature and private messaging infrastructure to create systematic privacy violations, particularly concerning given the teen demographic and the platform's data protection obligations.\n"
     ]
    }
   ],
   "source": [
    "# cell 5: run (Jupyter: await), get strongly-typed result\n",
    "user_prompt = f\"\"\"\n",
    "PRD (span-wrapped; 0-based indices via id='L{{i}}'):\n",
    "<<<PRD_SPANS>>>\n",
    "{span_wrapped_prd}\n",
    "<<<END PRD_SPANS>>>\n",
    "\n",
    "PRD:\n",
    "<<<PRD>>>\n",
    "{prd_text}\n",
    "<<<END PRD>>>\n",
    "\n",
    "Legal/Definition Context (each item has ent_id for citation):\n",
    "{law_context}\n",
    "\n",
    "Generate exactly {max_n} DISTINCT attack scenarios tied to this PRD, each citing >= 1 ent_id and include valid prd_spans.\n",
    "Output:\n",
    "Return an object with field \"scenarios\": AttackScenario[]\n",
    "\"\"\"\n",
    "\n",
    "resp = await agent.run(user_prompt)\n",
    "\n",
    "# Typed access (no manual JSON parsing):\n",
    "bundle = resp.get_pydantic_model(AuditBundle)\n",
    "for i, s in enumerate(bundle.scenarios):\n",
    "    print(f\"[{i}] {s.description}\")\n",
    "    print(\"Description:\", s.description)\n",
    "    print(\"Jurisdictions:\", s.jurisdictions)\n",
    "    print(\"Violations:\", s.potential_violations)\n",
    "    print(\"Citations:\", s.law_citations)\n",
    "    print(\"Rationale:\", s.rationale)"
   ]
  },
  {
   "cell_type": "code",
   "execution_count": 33,
   "id": "6e1dd028",
   "metadata": {},
   "outputs": [
    {
     "data": {
      "text/plain": [
       "AuditBundle(scenarios=[AttackScenario(description=\"A malicious actor creates multiple fake accounts to bypass the mentor eligibility requirements by artificially inflating follower counts or purchasing verification status. Once qualified as an 'Established Creator,' they systematically target vulnerable teen creators through the mentorship program, using the private chat infrastructure to groom minors under the guise of professional guidance. The enhanced monitoring systems fail to detect sophisticated grooming techniques that gradually escalate over time. (Attack vector: Fake mentor credential exploitation)\", potential_violations=['Child exploitation through deceptive mentorship', 'Platform manipulation via fake accounts', 'Circumvention of safety controls'], jurisdictions=['S.B. 152 (2023) - Utah Social Media Regulation Act'], law_citations=['1'], rationale='This scenario directly exploits the mentor eligibility system defined in FR-1 while targeting the vulnerable teen population explicitly mentioned in FR-3. The attack leverages the private messaging infrastructure to create a direct channel for potential abuse.', prd_spans=[19, 21, 12]), AttackScenario(description=\"Bad actors exploit the asymmetric power dynamic inherent in the mentorship model by posing as legitimate established creators and using psychological manipulation techniques to coerce aspiring creators into inappropriate relationships or content creation. They leverage the 'reputation building' motivation mentioned for established creators to justify increasingly invasive requests for personal information, photos, or private meetings under the pretense of 'industry networking.' The reporting tools become ineffective when victims are manipulated into believing the behavior is normal mentorship. (Attack vector: Psychological manipulation through power imbalance)\", potential_violations=['Exploitation of power dynamics', 'Coercion and manipulation of minors', 'Inappropriate data collection from vulnerable users'], jurisdictions=['S.B. 152 (2023) - Utah Social Media Regulation Act'], law_citations=['1'], rationale='This attack exploits the fundamental mentor-mentee relationship structure described in the user personas and feature requirements, specifically targeting the trust-building aspect that makes the safety controls less effective.', prd_spans=[17, 21, 15, 16]), AttackScenario(description=\"Attackers systematically create networks of coordinated inauthentic accounts that meet the technical eligibility criteria but operate as part of a larger scheme to harvest personal data from aspiring creators. They use the 'Discover Talent' feature to mass-contact new creators with seemingly legitimate mentorship offers, then use social engineering to extract sensitive information including real names, locations, school information, and family details. The private chat threads become data collection points that operate below the threshold of obvious abuse detection. (Attack vector: Coordinated data harvesting operation)\", potential_violations=['Unauthorized data collection from minors', 'Coordinated inauthentic behavior', 'Privacy violations through deceptive practices'], jurisdictions=['S.B. 152 (2023) - Utah Social Media Regulation Act'], law_citations=['1'], rationale=\"This scenario exploits the 'Discover Talent' feature and private messaging infrastructure to create systematic privacy violations, particularly concerning given the teen demographic and the platform's data protection obligations.\", prd_spans=[20, 21, 10, 15])])"
      ]
     },
     "execution_count": 33,
     "metadata": {},
     "output_type": "execute_result"
    }
   ],
   "source": [
    "bundle"
   ]
  },
  {
   "cell_type": "code",
   "execution_count": 33,
   "id": "caad8e2b",
   "metadata": {},
   "outputs": [],
   "source": [
    "test_prd_span = prd_to_spans(prd_text)\n"
   ]
  },
  {
   "cell_type": "code",
   "execution_count": 38,
   "id": "4d80dcb1",
   "metadata": {},
   "outputs": [
    {
     "data": {
      "text/plain": [
       "3"
      ]
     },
     "execution_count": 38,
     "metadata": {},
     "output_type": "execute_result"
    }
   ],
   "source": [
    "max_n"
   ]
  },
  {
   "cell_type": "code",
   "execution_count": 34,
   "id": "94755871",
   "metadata": {},
   "outputs": [
    {
     "data": {
      "text/plain": [
       "\"<span id='L0'>Product Requirements Document (PRD): Creator Connect</span>\\n<span id='L1'>Document ID: PRD-2025-48B Title: PRD: Creator Connect (V1) Author: Priya Singh (Product Manager) Stakeholders: Creator Growth Team, Community Safety, Legal Target Launch: Q2 2025</span>\\n<span id='L2'>1. Introduction &amp; Problem Statement</span>\\n<span id='L3'>One of the biggest challenges for new creators is the &quot;cold start&quot; problem—gaining initial visibility and navigating the platform&#x27;s complexities. This leads to high churn in the first 30 days. Simultaneously, our established creators have expressed a desire for more meaningful ways to engage with the community beyond content creation.</span>\\n<span id='L4'>&quot;Creator Connect&quot; aims to bridge this gap by creating a structured mentorship program. It will empower established creators to discover and guide promising new talent, fostering a more collaborative and supportive ecosystem. This will accelerate new creator growth and increase long-term retention for both cohorts.</span>\\n<span id='L5'>2. Goals &amp; Success Metrics</span>\\n<span id='L6'>Primary Goal: Increase 30-day retention of new creators by 5% within two quarters of launch.</span>\\n<span id='L7'>Secondary Goal: Increase positive sentiment scores among established creators by 10%.</span>\\n<span id='L8'>Key Results (KRs):</span>\\n<span id='L9'>Achieve a 20% week-over-week growth in new mentorship connections initiated.</span>\\n<span id='L10'>At least 15% of new creators (under 10k followers) receive and accept a mentorship connection within their first month.</span>\\n<span id='L11'>Maintain a &gt;99.9% success rate for connection-related API calls.</span>\\n<span id='L12'>Safety Metric: Zero confirmed instances of high-severity Community Guideline violations (e.g., harassment, grooming) originating from mentorship connections.</span>\\n<span id='L13'>3. User Stories &amp; Personas</span>\\n<span id='L14'>Persona 1: The Aspiring Creator (Mei)</span>\\n<span id='L15'>As Mei, a new creator with 500 followers, I want to receive guidance from an experienced creator in my niche so I can learn how to make better content and grow my audience.</span>\\n<span id='L16'>Persona 2: The Established Creator (David)</span>\\n<span id='L17'>As David, a verified creator with 2M followers, I want to find and help promising new creators in my field to give back to the community and build my reputation as a leader.</span>\\n<span id='L18'>4. Feature Requirements</span>\\n<span id='L19'>FR-1: Mentor Eligibility Only &quot;Established Creators&quot; can initiate mentorship requests. Eligibility will be determined by a set of rules in the Spanner rule engine, initially defined as: Verified Status OR &gt;500k Followers AND &gt;1 year account age.</span>\\n<span id='L20'>FR-2: Connection &amp; Communication Eligible mentors will have a new &quot;Discover Talent&quot; tab in their creator tools. Mentors can send a connection request, which includes a short introductory message. Aspiring creators will receive requests in a dedicated inbox. Once a request is accepted, a private, persistent chat thread is opened between the two creators using the existing Direct Messaging infrastructure.</span>\\n<span id='L21'>FR-3: Safety &amp; Trust (Critical) The feature must be a safe and positive space. This is our top priority, especially given that many aspiring creators are teens. All interactions initiated through this feature must be subject to enhanced monitoring to prevent abuse. We must implement robust safeguards to prevent bad actors from exploiting this feature to contact minors inappropriately. User-facing reporting tools must be prominent within the mentorship chat.</span>\\n<span id='L22'>5. Out of Scope for V1</span>\\n<span id='L23'>Group mentorships or &quot;Creator Houses.&quot;</span>\\n<span id='L24'>Monetisation of mentorship (paid advice, etc.).</span>\\n<span id='L25'>Mentee-initiated requests.</span>\""
      ]
     },
     "execution_count": 34,
     "metadata": {},
     "output_type": "execute_result"
    }
   ],
   "source": [
    "test_prd_span"
   ]
  },
  {
   "cell_type": "code",
   "execution_count": null,
   "id": "316d0cfb",
   "metadata": {},
   "outputs": [],
   "source": []
  }
 ],
 "metadata": {
  "kernelspec": {
   "display_name": "tiktok",
   "language": "python",
   "name": "python3"
  },
  "language_info": {
   "codemirror_mode": {
    "name": "ipython",
    "version": 3
   },
   "file_extension": ".py",
   "mimetype": "text/x-python",
   "name": "python",
   "nbconvert_exporter": "python",
   "pygments_lexer": "ipython3",
   "version": "3.10.17"
  }
 },
 "nbformat": 4,
 "nbformat_minor": 5
}
