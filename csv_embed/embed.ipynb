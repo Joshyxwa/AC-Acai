{
 "cells": [
  {
   "cell_type": "code",
   "execution_count": 1,
   "id": "1d361192",
   "metadata": {},
   "outputs": [
    {
     "ename": "ModuleNotFoundError",
     "evalue": "No module named 'sentence_transformers'",
     "output_type": "error",
     "traceback": [
      "\u001b[0;31m---------------------------------------------------------------------------\u001b[0m",
      "\u001b[0;31mModuleNotFoundError\u001b[0m                       Traceback (most recent call last)",
      "Cell \u001b[0;32mIn[1], line 5\u001b[0m\n\u001b[1;32m      3\u001b[0m \u001b[38;5;28;01mfrom\u001b[39;00m\u001b[38;5;250m \u001b[39m\u001b[38;5;21;01mtyping\u001b[39;00m\u001b[38;5;250m \u001b[39m\u001b[38;5;28;01mimport\u001b[39;00m List, Dict\n\u001b[1;32m      4\u001b[0m \u001b[38;5;28;01mfrom\u001b[39;00m\u001b[38;5;250m \u001b[39m\u001b[38;5;21;01msupabase\u001b[39;00m\u001b[38;5;250m \u001b[39m\u001b[38;5;28;01mimport\u001b[39;00m create_client, Client\n\u001b[0;32m----> 5\u001b[0m \u001b[38;5;28;01mfrom\u001b[39;00m\u001b[38;5;250m \u001b[39m\u001b[38;5;21;01msentence_transformers\u001b[39;00m\u001b[38;5;250m \u001b[39m\u001b[38;5;28;01mimport\u001b[39;00m SentenceTransformer\n\u001b[1;32m      6\u001b[0m \u001b[38;5;28;01mimport\u001b[39;00m\u001b[38;5;250m \u001b[39m\u001b[38;5;21;01mnumpy\u001b[39;00m\u001b[38;5;250m \u001b[39m\u001b[38;5;28;01mas\u001b[39;00m\u001b[38;5;250m \u001b[39m\u001b[38;5;21;01mnp\u001b[39;00m\n\u001b[1;32m      7\u001b[0m \u001b[38;5;28;01mfrom\u001b[39;00m\u001b[38;5;250m \u001b[39m\u001b[38;5;21;01msklearn\u001b[39;00m\u001b[38;5;21;01m.\u001b[39;00m\u001b[38;5;21;01mdecomposition\u001b[39;00m\u001b[38;5;250m \u001b[39m\u001b[38;5;28;01mimport\u001b[39;00m PCA\n",
      "\u001b[0;31mModuleNotFoundError\u001b[0m: No module named 'sentence_transformers'"
     ]
    }
   ],
   "source": [
    "import os, json, math\n",
    "import pandas as pd\n",
    "from typing import List, Dict\n",
    "from supabase import create_client, Client\n",
    "from sentence_transformers import SentenceTransformer\n",
    "import numpy as np\n",
    "from sklearn.decomposition import PCA"
   ]
  },
  {
   "cell_type": "code",
   "execution_count": 3,
   "id": "0655de01",
   "metadata": {},
   "outputs": [],
   "source": [
    "from dotenv import load_dotenv\n",
    "load_dotenv(dotenv_path=\"../secrets/.env.dev\")\n",
    "CSV_PATH = \"tech_law_violations.csv\"\n",
    "SUPABASE_URL = os.environ[\"SUPABASE_URL\"]\n",
    "SUPABASE_KEY = os.environ[\"SUPABASE_KEY\"]\n",
    "supabase: Client = create_client(SUPABASE_URL, SUPABASE_KEY)\n"
   ]
  },
  {
   "cell_type": "code",
   "execution_count": null,
   "id": "6df50aea",
   "metadata": {},
   "outputs": [],
   "source": [
    "# ---------- CHUNKING ----------\n",
    "def simple_sentence_split(text: str) -> List[str]:\n",
    "    # very light splitter; swap for spacy / nltk if you want\n",
    "    return [s.strip() for s in re.split(r'(?<=[.!?])\\s+', text) if s.strip()]\n",
    "\n",
    "def chunk_text(text: str, target_tokens=300, overlap_sents=1, tokenizer=None) -> List[str]:\n",
    "    sents = simple_sentence_split(text)\n",
    "    chunks, cur, cur_len = [], [], 0\n",
    "    for s in sents:\n",
    "        # crude token count if no tokenizer supplied\n",
    "        t = len(s.split()) if tokenizer is None else len(tokenizer.tokenize(s))\n",
    "        if cur_len + t <= target_tokens:\n",
    "            cur.append(s); cur_len += t\n",
    "        else:\n",
    "            if cur:\n",
    "                chunks.append(\" \".join(cur))\n",
    "                # overlap some sentences\n",
    "                cur = cur[-overlap_sents:] + [s]\n",
    "                cur_len = sum(len(x.split()) for x in cur) if tokenizer is None else \\\n",
    "                          sum(len(tokenizer.tokenize(x)) for x in cur)\n",
    "            else:\n",
    "                chunks.append(s)\n",
    "                cur, cur_len = [], 0\n",
    "    if cur: chunks.append(\" \".join(cur))\n",
    "    return chunks\n",
    "\n",
    "# ---------- EMBEDDING ----------\n",
    "MODEL_ID = \"Qwen/Qwen3-Embedding-8B\"  # HF\n",
    "USE_4096 = True   # set False if your DB uses VECTOR(2000)\n",
    "\n",
    "# Load model as per the model card\n",
    "from transformers import AutoTokenizer, AutoModel\n",
    "import torch, torch.nn.functional as F\n",
    "tokenizer = AutoTokenizer.from_pretrained(MODEL_ID, padding_side=\"left\")\n",
    "model = AutoModel.from_pretrained(MODEL_ID)\n",
    "\n",
    "def last_token_pool(last_hidden_states: torch.Tensor, attention_mask: torch.Tensor) -> torch.Tensor:\n",
    "    # from the model card usage\n",
    "    left_padding = (attention_mask[:, -1].sum() == attention_mask.shape[0])\n",
    "    if left_padding:\n",
    "        return last_hidden_states[:, -1]\n",
    "    sequence_lengths = attention_mask.sum(dim=1) - 1\n",
    "    batch_size = last_hidden_states.shape[0]\n",
    "    return last_hidden_states[torch.arange(batch_size, device=last_hidden_states.device), sequence_lengths]\n",
    "\n",
    "def embed_texts(texts: List[str], batch_size=16, max_length=8192) -> np.ndarray:\n",
    "    vecs = []\n",
    "    model.eval()\n",
    "    with torch.no_grad():\n",
    "        for i in range(0, len(texts), batch_size):\n",
    "            batch = texts[i:i+batch_size]\n",
    "            toks = tokenizer(batch, padding=True, truncation=True, max_length=max_length, return_tensors=\"pt\")\n",
    "            toks = {k: v.to(model.device) for k, v in toks.items()}\n",
    "            out = model(**toks)\n",
    "            pooled = last_token_pool(out.last_hidden_state, toks[\"attention_mask\"])\n",
    "            pooled = F.normalize(pooled, p=2, dim=1)  # cosine-friendly\n",
    "            vecs.append(pooled.cpu().numpy())\n",
    "    return np.vstack(vecs)\n"
   ]
  },
  {
   "cell_type": "code",
   "execution_count": null,
   "id": "4394f7ac",
   "metadata": {},
   "outputs": [],
   "source": []
  }
 ],
 "metadata": {
  "kernelspec": {
   "display_name": "tiktok",
   "language": "python",
   "name": "python3"
  },
  "language_info": {
   "codemirror_mode": {
    "name": "ipython",
    "version": 3
   },
   "file_extension": ".py",
   "mimetype": "text/x-python",
   "name": "python",
   "nbconvert_exporter": "python",
   "pygments_lexer": "ipython3",
   "version": "3.10.17"
  }
 },
 "nbformat": 4,
 "nbformat_minor": 5
}
